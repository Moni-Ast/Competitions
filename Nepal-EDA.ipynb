{
 "cells": [
  {
   "cell_type": "code",
   "execution_count": 1,
   "metadata": {},
   "outputs": [],
   "source": [
    "import numpy as np\n",
    "import pandas as pd\n",
    "\n",
    "import matplotlib.pyplot as plt\n",
    "import seaborn as sns"
   ]
  },
  {
   "cell_type": "markdown",
   "metadata": {},
   "source": [
    "## Load in data"
   ]
  },
  {
   "cell_type": "code",
   "execution_count": 2,
   "metadata": {},
   "outputs": [],
   "source": [
    "train_df = pd.read_csv('P:\\\\ds-moni\\\\Competitions\\\\nepal_data\\\\train_values.csv')\n",
    "train_labels = pd.read_csv('P:\\\\ds-moni\\\\Competitions\\\\nepal_data\\\\train_labels.csv')"
   ]
  },
  {
   "cell_type": "code",
   "execution_count": 3,
   "metadata": {},
   "outputs": [
    {
     "name": "stdout",
     "output_type": "stream",
     "text": [
      "(260601, 39)\n"
     ]
    },
    {
     "data": {
      "text/html": [
       "<div>\n",
       "<style scoped>\n",
       "    .dataframe tbody tr th:only-of-type {\n",
       "        vertical-align: middle;\n",
       "    }\n",
       "\n",
       "    .dataframe tbody tr th {\n",
       "        vertical-align: top;\n",
       "    }\n",
       "\n",
       "    .dataframe thead th {\n",
       "        text-align: right;\n",
       "    }\n",
       "</style>\n",
       "<table border=\"1\" class=\"dataframe\">\n",
       "  <thead>\n",
       "    <tr style=\"text-align: right;\">\n",
       "      <th></th>\n",
       "      <th>building_id</th>\n",
       "      <th>geo_level_1_id</th>\n",
       "      <th>geo_level_2_id</th>\n",
       "      <th>geo_level_3_id</th>\n",
       "      <th>count_floors_pre_eq</th>\n",
       "      <th>age</th>\n",
       "      <th>area_percentage</th>\n",
       "      <th>height_percentage</th>\n",
       "      <th>land_surface_condition</th>\n",
       "      <th>foundation_type</th>\n",
       "      <th>...</th>\n",
       "      <th>has_secondary_use_agriculture</th>\n",
       "      <th>has_secondary_use_hotel</th>\n",
       "      <th>has_secondary_use_rental</th>\n",
       "      <th>has_secondary_use_institution</th>\n",
       "      <th>has_secondary_use_school</th>\n",
       "      <th>has_secondary_use_industry</th>\n",
       "      <th>has_secondary_use_health_post</th>\n",
       "      <th>has_secondary_use_gov_office</th>\n",
       "      <th>has_secondary_use_use_police</th>\n",
       "      <th>has_secondary_use_other</th>\n",
       "    </tr>\n",
       "  </thead>\n",
       "  <tbody>\n",
       "    <tr>\n",
       "      <th>0</th>\n",
       "      <td>802906</td>\n",
       "      <td>6</td>\n",
       "      <td>487</td>\n",
       "      <td>12198</td>\n",
       "      <td>2</td>\n",
       "      <td>30</td>\n",
       "      <td>6</td>\n",
       "      <td>5</td>\n",
       "      <td>t</td>\n",
       "      <td>r</td>\n",
       "      <td>...</td>\n",
       "      <td>0</td>\n",
       "      <td>0</td>\n",
       "      <td>0</td>\n",
       "      <td>0</td>\n",
       "      <td>0</td>\n",
       "      <td>0</td>\n",
       "      <td>0</td>\n",
       "      <td>0</td>\n",
       "      <td>0</td>\n",
       "      <td>0</td>\n",
       "    </tr>\n",
       "    <tr>\n",
       "      <th>1</th>\n",
       "      <td>28830</td>\n",
       "      <td>8</td>\n",
       "      <td>900</td>\n",
       "      <td>2812</td>\n",
       "      <td>2</td>\n",
       "      <td>10</td>\n",
       "      <td>8</td>\n",
       "      <td>7</td>\n",
       "      <td>o</td>\n",
       "      <td>r</td>\n",
       "      <td>...</td>\n",
       "      <td>0</td>\n",
       "      <td>0</td>\n",
       "      <td>0</td>\n",
       "      <td>0</td>\n",
       "      <td>0</td>\n",
       "      <td>0</td>\n",
       "      <td>0</td>\n",
       "      <td>0</td>\n",
       "      <td>0</td>\n",
       "      <td>0</td>\n",
       "    </tr>\n",
       "    <tr>\n",
       "      <th>2</th>\n",
       "      <td>94947</td>\n",
       "      <td>21</td>\n",
       "      <td>363</td>\n",
       "      <td>8973</td>\n",
       "      <td>2</td>\n",
       "      <td>10</td>\n",
       "      <td>5</td>\n",
       "      <td>5</td>\n",
       "      <td>t</td>\n",
       "      <td>r</td>\n",
       "      <td>...</td>\n",
       "      <td>0</td>\n",
       "      <td>0</td>\n",
       "      <td>0</td>\n",
       "      <td>0</td>\n",
       "      <td>0</td>\n",
       "      <td>0</td>\n",
       "      <td>0</td>\n",
       "      <td>0</td>\n",
       "      <td>0</td>\n",
       "      <td>0</td>\n",
       "    </tr>\n",
       "    <tr>\n",
       "      <th>3</th>\n",
       "      <td>590882</td>\n",
       "      <td>22</td>\n",
       "      <td>418</td>\n",
       "      <td>10694</td>\n",
       "      <td>2</td>\n",
       "      <td>10</td>\n",
       "      <td>6</td>\n",
       "      <td>5</td>\n",
       "      <td>t</td>\n",
       "      <td>r</td>\n",
       "      <td>...</td>\n",
       "      <td>0</td>\n",
       "      <td>0</td>\n",
       "      <td>0</td>\n",
       "      <td>0</td>\n",
       "      <td>0</td>\n",
       "      <td>0</td>\n",
       "      <td>0</td>\n",
       "      <td>0</td>\n",
       "      <td>0</td>\n",
       "      <td>0</td>\n",
       "    </tr>\n",
       "    <tr>\n",
       "      <th>4</th>\n",
       "      <td>201944</td>\n",
       "      <td>11</td>\n",
       "      <td>131</td>\n",
       "      <td>1488</td>\n",
       "      <td>3</td>\n",
       "      <td>30</td>\n",
       "      <td>8</td>\n",
       "      <td>9</td>\n",
       "      <td>t</td>\n",
       "      <td>r</td>\n",
       "      <td>...</td>\n",
       "      <td>0</td>\n",
       "      <td>0</td>\n",
       "      <td>0</td>\n",
       "      <td>0</td>\n",
       "      <td>0</td>\n",
       "      <td>0</td>\n",
       "      <td>0</td>\n",
       "      <td>0</td>\n",
       "      <td>0</td>\n",
       "      <td>0</td>\n",
       "    </tr>\n",
       "  </tbody>\n",
       "</table>\n",
       "<p>5 rows × 39 columns</p>\n",
       "</div>"
      ],
      "text/plain": [
       "   building_id  geo_level_1_id  geo_level_2_id  geo_level_3_id  \\\n",
       "0       802906               6             487           12198   \n",
       "1        28830               8             900            2812   \n",
       "2        94947              21             363            8973   \n",
       "3       590882              22             418           10694   \n",
       "4       201944              11             131            1488   \n",
       "\n",
       "   count_floors_pre_eq  age  area_percentage  height_percentage  \\\n",
       "0                    2   30                6                  5   \n",
       "1                    2   10                8                  7   \n",
       "2                    2   10                5                  5   \n",
       "3                    2   10                6                  5   \n",
       "4                    3   30                8                  9   \n",
       "\n",
       "  land_surface_condition foundation_type  ... has_secondary_use_agriculture  \\\n",
       "0                      t               r  ...                             0   \n",
       "1                      o               r  ...                             0   \n",
       "2                      t               r  ...                             0   \n",
       "3                      t               r  ...                             0   \n",
       "4                      t               r  ...                             0   \n",
       "\n",
       "  has_secondary_use_hotel has_secondary_use_rental  \\\n",
       "0                       0                        0   \n",
       "1                       0                        0   \n",
       "2                       0                        0   \n",
       "3                       0                        0   \n",
       "4                       0                        0   \n",
       "\n",
       "  has_secondary_use_institution has_secondary_use_school  \\\n",
       "0                             0                        0   \n",
       "1                             0                        0   \n",
       "2                             0                        0   \n",
       "3                             0                        0   \n",
       "4                             0                        0   \n",
       "\n",
       "   has_secondary_use_industry  has_secondary_use_health_post  \\\n",
       "0                           0                              0   \n",
       "1                           0                              0   \n",
       "2                           0                              0   \n",
       "3                           0                              0   \n",
       "4                           0                              0   \n",
       "\n",
       "   has_secondary_use_gov_office  has_secondary_use_use_police  \\\n",
       "0                             0                             0   \n",
       "1                             0                             0   \n",
       "2                             0                             0   \n",
       "3                             0                             0   \n",
       "4                             0                             0   \n",
       "\n",
       "   has_secondary_use_other  \n",
       "0                        0  \n",
       "1                        0  \n",
       "2                        0  \n",
       "3                        0  \n",
       "4                        0  \n",
       "\n",
       "[5 rows x 39 columns]"
      ]
     },
     "execution_count": 3,
     "metadata": {},
     "output_type": "execute_result"
    }
   ],
   "source": [
    "print(train_df.shape)\n",
    "train_df.head(5)"
   ]
  },
  {
   "cell_type": "code",
   "execution_count": 4,
   "metadata": {},
   "outputs": [
    {
     "data": {
      "text/plain": [
       "building_id                               0\n",
       "geo_level_1_id                            0\n",
       "geo_level_2_id                            0\n",
       "geo_level_3_id                            0\n",
       "count_floors_pre_eq                       0\n",
       "age                                       0\n",
       "area_percentage                           0\n",
       "height_percentage                         0\n",
       "land_surface_condition                    0\n",
       "foundation_type                           0\n",
       "roof_type                                 0\n",
       "ground_floor_type                         0\n",
       "other_floor_type                          0\n",
       "position                                  0\n",
       "plan_configuration                        0\n",
       "has_superstructure_adobe_mud              0\n",
       "has_superstructure_mud_mortar_stone       0\n",
       "has_superstructure_stone_flag             0\n",
       "has_superstructure_cement_mortar_stone    0\n",
       "has_superstructure_mud_mortar_brick       0\n",
       "has_superstructure_cement_mortar_brick    0\n",
       "has_superstructure_timber                 0\n",
       "has_superstructure_bamboo                 0\n",
       "has_superstructure_rc_non_engineered      0\n",
       "has_superstructure_rc_engineered          0\n",
       "has_superstructure_other                  0\n",
       "legal_ownership_status                    0\n",
       "count_families                            0\n",
       "has_secondary_use                         0\n",
       "has_secondary_use_agriculture             0\n",
       "has_secondary_use_hotel                   0\n",
       "has_secondary_use_rental                  0\n",
       "has_secondary_use_institution             0\n",
       "has_secondary_use_school                  0\n",
       "has_secondary_use_industry                0\n",
       "has_secondary_use_health_post             0\n",
       "has_secondary_use_gov_office              0\n",
       "has_secondary_use_use_police              0\n",
       "has_secondary_use_other                   0\n",
       "dtype: int64"
      ]
     },
     "execution_count": 4,
     "metadata": {},
     "output_type": "execute_result"
    }
   ],
   "source": [
    "# no missing values\n",
    "train_df.isnull().sum()"
   ]
  },
  {
   "cell_type": "code",
   "execution_count": 5,
   "metadata": {},
   "outputs": [
    {
     "data": {
      "text/plain": [
       "{'whiskers': [<matplotlib.lines.Line2D at 0x1a904373070>,\n",
       "  <matplotlib.lines.Line2D at 0x1a9043733d0>],\n",
       " 'caps': [<matplotlib.lines.Line2D at 0x1a904373730>,\n",
       "  <matplotlib.lines.Line2D at 0x1a904373a90>],\n",
       " 'boxes': [<matplotlib.lines.Line2D at 0x1a90436acd0>],\n",
       " 'medians': [<matplotlib.lines.Line2D at 0x1a904373df0>],\n",
       " 'fliers': [<matplotlib.lines.Line2D at 0x1a904381190>],\n",
       " 'means': []}"
      ]
     },
     "execution_count": 5,
     "metadata": {},
     "output_type": "execute_result"
    },
    {
     "data": {
      "image/png": "[encoded data removed]",
      "text/plain": [
       "<Figure size 1440x288 with 3 Axes>"
      ]
     },
     "metadata": {
      "needs_background": "light"
     },
     "output_type": "display_data"
    }
   ],
   "source": [
    "fig, ax = plt.subplots(1,3, figsize=(20,4))\n",
    "\n",
    "ax[0].boxplot(train_df['age'])\n",
    "ax[1].boxplot(train_df['area_percentage'])\n",
    "ax[2].boxplot(train_df['height_percentage'])"
   ]
  },
  {
   "cell_type": "markdown",
   "metadata": {},
   "source": [
    "EDA Plan\n",
    "\n",
    "Numerical Features\n",
    "- 1. look at distribuion of the numerical variables\n",
    "- 2. correlation between numerical features\n",
    "\n",
    "Categorical Features\n",
    "- 3. Distribution of age across surface condition of the land where the building was built\n",
    "- 4. Does the use of the building correspond with how big it is in terms of area % and height % as well as number of floors\n",
    "- 5. Given the structure of the building - bamboo, stone, brick, etc - what is the use of the building - agriculture,gov, etc"
   ]
  },
  {
   "cell_type": "markdown",
   "metadata": {},
   "source": [
    "### 1. Distribution of Numerical Features"
   ]
  },
  {
   "cell_type": "code",
   "execution_count": 9,
   "metadata": {},
   "outputs": [
    {
     "data": {
      "text/html": [
       "<div>\n",
       "<style scoped>\n",
       "    .dataframe tbody tr th:only-of-type {\n",
       "        vertical-align: middle;\n",
       "    }\n",
       "\n",
       "    .dataframe tbody tr th {\n",
       "        vertical-align: top;\n",
       "    }\n",
       "\n",
       "    .dataframe thead th {\n",
       "        text-align: right;\n",
       "    }\n",
       "</style>\n",
       "<table border=\"1\" class=\"dataframe\">\n",
       "  <thead>\n",
       "    <tr style=\"text-align: right;\">\n",
       "      <th></th>\n",
       "      <th>count_floors_pre_eq</th>\n",
       "      <th>age</th>\n",
       "      <th>area_percentage</th>\n",
       "      <th>height_percentage</th>\n",
       "      <th>count_families</th>\n",
       "    </tr>\n",
       "  </thead>\n",
       "  <tbody>\n",
       "    <tr>\n",
       "      <th>count</th>\n",
       "      <td>260601.000000</td>\n",
       "      <td>260601.000000</td>\n",
       "      <td>260601.000000</td>\n",
       "      <td>260601.000000</td>\n",
       "      <td>260601.000000</td>\n",
       "    </tr>\n",
       "    <tr>\n",
       "      <th>mean</th>\n",
       "      <td>2.129723</td>\n",
       "      <td>26.535029</td>\n",
       "      <td>8.018051</td>\n",
       "      <td>5.434365</td>\n",
       "      <td>0.983949</td>\n",
       "    </tr>\n",
       "    <tr>\n",
       "      <th>std</th>\n",
       "      <td>0.727665</td>\n",
       "      <td>73.565937</td>\n",
       "      <td>4.392231</td>\n",
       "      <td>1.918418</td>\n",
       "      <td>0.418389</td>\n",
       "    </tr>\n",
       "    <tr>\n",
       "      <th>min</th>\n",
       "      <td>1.000000</td>\n",
       "      <td>0.000000</td>\n",
       "      <td>1.000000</td>\n",
       "      <td>2.000000</td>\n",
       "      <td>0.000000</td>\n",
       "    </tr>\n",
       "    <tr>\n",
       "      <th>25%</th>\n",
       "      <td>2.000000</td>\n",
       "      <td>10.000000</td>\n",
       "      <td>5.000000</td>\n",
       "      <td>4.000000</td>\n",
       "      <td>1.000000</td>\n",
       "    </tr>\n",
       "    <tr>\n",
       "      <th>50%</th>\n",
       "      <td>2.000000</td>\n",
       "      <td>15.000000</td>\n",
       "      <td>7.000000</td>\n",
       "      <td>5.000000</td>\n",
       "      <td>1.000000</td>\n",
       "    </tr>\n",
       "    <tr>\n",
       "      <th>75%</th>\n",
       "      <td>2.000000</td>\n",
       "      <td>30.000000</td>\n",
       "      <td>9.000000</td>\n",
       "      <td>6.000000</td>\n",
       "      <td>1.000000</td>\n",
       "    </tr>\n",
       "    <tr>\n",
       "      <th>max</th>\n",
       "      <td>9.000000</td>\n",
       "      <td>995.000000</td>\n",
       "      <td>100.000000</td>\n",
       "      <td>32.000000</td>\n",
       "      <td>9.000000</td>\n",
       "    </tr>\n",
       "  </tbody>\n",
       "</table>\n",
       "</div>"
      ],
      "text/plain": [
       "       count_floors_pre_eq            age  area_percentage  height_percentage  \\\n",
       "count        260601.000000  260601.000000    260601.000000      260601.000000   \n",
       "mean              2.129723      26.535029         8.018051           5.434365   \n",
       "std               0.727665      73.565937         4.392231           1.918418   \n",
       "min               1.000000       0.000000         1.000000           2.000000   \n",
       "25%               2.000000      10.000000         5.000000           4.000000   \n",
       "50%               2.000000      15.000000         7.000000           5.000000   \n",
       "75%               2.000000      30.000000         9.000000           6.000000   \n",
       "max               9.000000     995.000000       100.000000          32.000000   \n",
       "\n",
       "       count_families  \n",
       "count   260601.000000  \n",
       "mean         0.983949  \n",
       "std          0.418389  \n",
       "min          0.000000  \n",
       "25%          1.000000  \n",
       "50%          1.000000  \n",
       "75%          1.000000  \n",
       "max          9.000000  "
      ]
     },
     "execution_count": 9,
     "metadata": {},
     "output_type": "execute_result"
    }
   ],
   "source": [
    "numerical_vars = ['count_floors_pre_eq','age','area_percentage','height_percentage','count_families']\n",
    "train_df[numerical_vars].describe()"
   ]
  },
  {
   "cell_type": "markdown",
   "metadata": {},
   "source": [
    "- 75% of the buildings have 1 family living in them\n",
    "- 25% of each variable look like outliers"
   ]
  },
  {
   "cell_type": "code",
   "execution_count": 10,
   "metadata": {},
   "outputs": [
    {
     "data": {
      "text/plain": [
       "2    148259\n",
       "3     87218\n",
       "1     25124\n",
       "Name: damage_grade, dtype: int64"
      ]
     },
     "execution_count": 10,
     "metadata": {},
     "output_type": "execute_result"
    }
   ],
   "source": [
    "df = train_df.merge(train_labels, on=['building_id'])\n",
    "df['damage_grade'].value_counts()"
   ]
  },
  {
   "cell_type": "code",
   "execution_count": 11,
   "metadata": {},
   "outputs": [
    {
     "data": {
      "text/plain": [
       "Text(0.5, 1.0, 'Number of families vs damage level for each building')"
      ]
     },
     "execution_count": 11,
     "metadata": {},
     "output_type": "execute_result"
    },
    {
     "data": {
      "image/png": "[encoded data removed]",
      "text/plain": [
       "<Figure size 1080x432 with 2 Axes>"
      ]
     },
     "metadata": {
      "needs_background": "light"
     },
     "output_type": "display_data"
    }
   ],
   "source": [
    "fig, ax = plt.subplots(1,2, figsize=(15,6))\n",
    "\n",
    "ax[0].hist(df[df[\"damage_grade\"]==1][\"age\"], alpha=0.5, color=\"blue\", label=\"1\")\n",
    "ax[0].hist(df[df[\"damage_grade\"]==2][\"age\"], alpha=0.5, color=\"green\", label=\"2\")\n",
    "ax[0].hist(df[df[\"damage_grade\"]==3][\"age\"], alpha=0.5, color=\"yellow\", label=\"3\")\n",
    "ax[0].set_xlabel(\"Age\")\n",
    "ax[0].set_ylabel(\"Count of buildings\")\n",
    "ax[0].legend()\n",
    "ax[0].set_title(\"Age vs damage level for each building\")\n",
    "\n",
    "ax[1].hist(df[df[\"damage_grade\"]==1][\"count_families\"], alpha=0.5, color=\"blue\", label=\"1\")\n",
    "ax[1].hist(df[df[\"damage_grade\"]==2][\"count_families\"], alpha=0.5, color=\"green\", label=\"2\")\n",
    "ax[1].hist(df[df[\"damage_grade\"]==3][\"count_families\"], alpha=0.5, color=\"yellow\", label=\"3\")\n",
    "ax[1].set_xlabel(\"Number of families\")\n",
    "ax[1].set_ylabel(\"Count of buildings\")\n",
    "ax[1].legend()\n",
    "ax[1].set_title(\"Number of families vs damage level for each building\")"
   ]
  },
  {
   "cell_type": "markdown",
   "metadata": {},
   "source": [
    "### 2. Correlation between numerical Features"
   ]
  },
  {
   "cell_type": "code",
   "execution_count": 12,
   "metadata": {},
   "outputs": [
    {
     "data": {
      "text/plain": [
       "[Text(0, 0.5, 'count_floors_pre_eq'),\n",
       " Text(0, 1.5, 'age'),\n",
       " Text(0, 2.5, 'area_percentage'),\n",
       " Text(0, 3.5, 'height_percentage'),\n",
       " Text(0, 4.5, 'count_families')]"
      ]
     },
     "execution_count": 12,
     "metadata": {},
     "output_type": "execute_result"
    },
    {
     "data": {
      "image/png": "[encoded data removed]",
      "text/plain": [
       "<Figure size 720x432 with 2 Axes>"
      ]
     },
     "metadata": {
      "needs_background": "light"
     },
     "output_type": "display_data"
    }
   ],
   "source": [
    "num_corr = train_df[numerical_vars].corr(method='spearman')\n",
    "mask = np.zeros_like(num_corr)\n",
    "mask[np.triu_indices_from(mask)] = True\n",
    "\n",
    "fig, ax = plt.subplots(1,1, figsize=(10,6))\n",
    "sns.heatmap(num_corr, annot=True, annot_kws={\"size\": 14}, cmap=\"YlGnBu\", mask=mask)\n",
    "ax.set_xticklabels(num_corr.columns, fontsize=14, rotation=60)\n",
    "ax.set_yticklabels(num_corr.columns, fontsize=14)"
   ]
  },
  {
   "cell_type": "markdown",
   "metadata": {},
   "source": [
    "- hegiht of the building is fairly well correlated with the number of floors"
   ]
  },
  {
   "cell_type": "markdown",
   "metadata": {},
   "source": [
    "### 3. Distribution of age across surface condition of the land where the building was built"
   ]
  },
  {
   "cell_type": "code",
   "execution_count": 13,
   "metadata": {},
   "outputs": [
    {
     "data": {
      "text/plain": [
       "<AxesSubplot:xlabel='land_surface_condition', ylabel='age'>"
      ]
     },
     "execution_count": 13,
     "metadata": {},
     "output_type": "execute_result"
    },
    {
     "data": {
      "image/png": "[encoded data removed]",
      "text/plain": [
       "<Figure size 720x432 with 1 Axes>"
      ]
     },
     "metadata": {
      "needs_background": "light"
     },
     "output_type": "display_data"
    }
   ],
   "source": [
    "fig, ax = plt.subplots(1,1, figsize=(10,6))\n",
    "\n",
    "sns.boxplot(x=\"land_surface_condition\", y=\"age\", data=train_df)"
   ]
  },
  {
   "cell_type": "markdown",
   "metadata": {},
   "source": [
    "- a few outliers - let's drop them and re-do the boxplot"
   ]
  },
  {
   "cell_type": "code",
   "execution_count": 14,
   "metadata": {},
   "outputs": [
    {
     "data": {
      "text/plain": [
       "<AxesSubplot:xlabel='land_surface_condition', ylabel='age'>"
      ]
     },
     "execution_count": 14,
     "metadata": {},
     "output_type": "execute_result"
    },
    {
     "data": {
      "image/png": "[encoded data removed]",
      "text/plain": [
       "<Figure size 720x432 with 1 Axes>"
      ]
     },
     "metadata": {
      "needs_background": "light"
     },
     "output_type": "display_data"
    }
   ],
   "source": [
    "train_df1 = train_df[train_df['age']<=500].copy()\n",
    "\n",
    "fig, ax = plt.subplots(1,1, figsize=(10,6))\n",
    "\n",
    "sns.boxplot(x=\"land_surface_condition\", y=\"age\", data=train_df1)"
   ]
  },
  {
   "cell_type": "markdown",
   "metadata": {},
   "source": [
    "- age is not related to what the land surface condition of the building is\n",
    "    - it doesn't matter how old the building it might have any condition"
   ]
  },
  {
   "cell_type": "markdown",
   "metadata": {},
   "source": [
    "### 4. Does the use of the building correspond with how big it is in terms of area % and height % as well as number of floors and family count"
   ]
  },
  {
   "cell_type": "code",
   "execution_count": 15,
   "metadata": {},
   "outputs": [
    {
     "data": {
      "text/plain": [
       "0    230209\n",
       "1     29002\n",
       "Name: has_secondary_use, dtype: int64"
      ]
     },
     "execution_count": 15,
     "metadata": {},
     "output_type": "execute_result"
    }
   ],
   "source": [
    "train_df1[[x for x in train_df1.columns if 'secondary' in x]]['has_secondary_use'].value_counts()"
   ]
  },
  {
   "cell_type": "code",
   "execution_count": 16,
   "metadata": {},
   "outputs": [
    {
     "data": {
      "text/html": [
       "<div>\n",
       "<style scoped>\n",
       "    .dataframe tbody tr th:only-of-type {\n",
       "        vertical-align: middle;\n",
       "    }\n",
       "\n",
       "    .dataframe tbody tr th {\n",
       "        vertical-align: top;\n",
       "    }\n",
       "\n",
       "    .dataframe thead th {\n",
       "        text-align: right;\n",
       "    }\n",
       "</style>\n",
       "<table border=\"1\" class=\"dataframe\">\n",
       "  <thead>\n",
       "    <tr style=\"text-align: right;\">\n",
       "      <th></th>\n",
       "      <th>building_id</th>\n",
       "      <th>area_percentage</th>\n",
       "      <th>height_percentage</th>\n",
       "      <th>count_floors_pre_eq</th>\n",
       "      <th>count_families</th>\n",
       "      <th>secondary_use</th>\n",
       "      <th>value</th>\n",
       "    </tr>\n",
       "  </thead>\n",
       "  <tbody>\n",
       "    <tr>\n",
       "      <th>0</th>\n",
       "      <td>333020</td>\n",
       "      <td>9</td>\n",
       "      <td>5</td>\n",
       "      <td>2</td>\n",
       "      <td>1</td>\n",
       "      <td>agriculture</td>\n",
       "      <td>1</td>\n",
       "    </tr>\n",
       "    <tr>\n",
       "      <th>1</th>\n",
       "      <td>793397</td>\n",
       "      <td>7</td>\n",
       "      <td>5</td>\n",
       "      <td>3</td>\n",
       "      <td>0</td>\n",
       "      <td>agriculture</td>\n",
       "      <td>1</td>\n",
       "    </tr>\n",
       "    <tr>\n",
       "      <th>2</th>\n",
       "      <td>973909</td>\n",
       "      <td>11</td>\n",
       "      <td>5</td>\n",
       "      <td>3</td>\n",
       "      <td>1</td>\n",
       "      <td>agriculture</td>\n",
       "      <td>1</td>\n",
       "    </tr>\n",
       "    <tr>\n",
       "      <th>3</th>\n",
       "      <td>552720</td>\n",
       "      <td>10</td>\n",
       "      <td>5</td>\n",
       "      <td>2</td>\n",
       "      <td>1</td>\n",
       "      <td>agriculture</td>\n",
       "      <td>1</td>\n",
       "    </tr>\n",
       "    <tr>\n",
       "      <th>4</th>\n",
       "      <td>961851</td>\n",
       "      <td>13</td>\n",
       "      <td>9</td>\n",
       "      <td>3</td>\n",
       "      <td>2</td>\n",
       "      <td>agriculture</td>\n",
       "      <td>1</td>\n",
       "    </tr>\n",
       "    <tr>\n",
       "      <th>...</th>\n",
       "      <td>...</td>\n",
       "      <td>...</td>\n",
       "      <td>...</td>\n",
       "      <td>...</td>\n",
       "      <td>...</td>\n",
       "      <td>...</td>\n",
       "      <td>...</td>\n",
       "    </tr>\n",
       "    <tr>\n",
       "      <th>29554</th>\n",
       "      <td>952382</td>\n",
       "      <td>6</td>\n",
       "      <td>4</td>\n",
       "      <td>2</td>\n",
       "      <td>1</td>\n",
       "      <td>other</td>\n",
       "      <td>1</td>\n",
       "    </tr>\n",
       "    <tr>\n",
       "      <th>29555</th>\n",
       "      <td>498666</td>\n",
       "      <td>14</td>\n",
       "      <td>5</td>\n",
       "      <td>2</td>\n",
       "      <td>1</td>\n",
       "      <td>other</td>\n",
       "      <td>1</td>\n",
       "    </tr>\n",
       "    <tr>\n",
       "      <th>29556</th>\n",
       "      <td>492007</td>\n",
       "      <td>10</td>\n",
       "      <td>4</td>\n",
       "      <td>2</td>\n",
       "      <td>1</td>\n",
       "      <td>other</td>\n",
       "      <td>1</td>\n",
       "    </tr>\n",
       "    <tr>\n",
       "      <th>29557</th>\n",
       "      <td>655553</td>\n",
       "      <td>7</td>\n",
       "      <td>5</td>\n",
       "      <td>2</td>\n",
       "      <td>1</td>\n",
       "      <td>other</td>\n",
       "      <td>1</td>\n",
       "    </tr>\n",
       "    <tr>\n",
       "      <th>29558</th>\n",
       "      <td>691954</td>\n",
       "      <td>24</td>\n",
       "      <td>7</td>\n",
       "      <td>3</td>\n",
       "      <td>1</td>\n",
       "      <td>other</td>\n",
       "      <td>1</td>\n",
       "    </tr>\n",
       "  </tbody>\n",
       "</table>\n",
       "<p>29559 rows × 7 columns</p>\n",
       "</div>"
      ],
      "text/plain": [
       "       building_id  area_percentage  height_percentage  count_floors_pre_eq  \\\n",
       "0           333020                9                  5                    2   \n",
       "1           793397                7                  5                    3   \n",
       "2           973909               11                  5                    3   \n",
       "3           552720               10                  5                    2   \n",
       "4           961851               13                  9                    3   \n",
       "...            ...              ...                ...                  ...   \n",
       "29554       952382                6                  4                    2   \n",
       "29555       498666               14                  5                    2   \n",
       "29556       492007               10                  4                    2   \n",
       "29557       655553                7                  5                    2   \n",
       "29558       691954               24                  7                    3   \n",
       "\n",
       "       count_families secondary_use  value  \n",
       "0                   1   agriculture      1  \n",
       "1                   0   agriculture      1  \n",
       "2                   1   agriculture      1  \n",
       "3                   1   agriculture      1  \n",
       "4                   2   agriculture      1  \n",
       "...               ...           ...    ...  \n",
       "29554               1         other      1  \n",
       "29555               1         other      1  \n",
       "29556               1         other      1  \n",
       "29557               1         other      1  \n",
       "29558               1         other      1  \n",
       "\n",
       "[29559 rows x 7 columns]"
      ]
     },
     "execution_count": 16,
     "metadata": {},
     "output_type": "execute_result"
    }
   ],
   "source": [
    "secondary_use_build = train_df1[[x for x in train_df1.columns if 'has_secondary_use_' in x]+['building_id','area_percentage','height_percentage','count_floors_pre_eq','count_families']].copy()\n",
    "\n",
    "#\n",
    "secondary_use_build.columns = secondary_use_build.columns.str.replace('has_secondary_use_','')\n",
    "\n",
    "secondary_use_build1 = pd.melt(secondary_use_build,  \n",
    "                    var_name='secondary_use',\n",
    "                    id_vars = ['building_id','area_percentage','height_percentage','count_floors_pre_eq','count_families'],\n",
    "                    ignore_index=False)\n",
    "\n",
    "secondary_use_build2 = secondary_use_build1[secondary_use_build1['value']==1].reset_index(drop=True)\n",
    "secondary_use_build2"
   ]
  },
  {
   "cell_type": "code",
   "execution_count": 17,
   "metadata": {},
   "outputs": [
    {
     "data": {
      "text/plain": [
       "<AxesSubplot:xlabel='secondary_use', ylabel='area_percentage'>"
      ]
     },
     "execution_count": 17,
     "metadata": {},
     "output_type": "execute_result"
    },
    {
     "data": {
      "image/png": "[encoded data removed]",
      "text/plain": [
       "<Figure size 720x432 with 1 Axes>"
      ]
     },
     "metadata": {
      "needs_background": "light"
     },
     "output_type": "display_data"
    }
   ],
   "source": [
    "fig, ax = plt.subplots(1,1, figsize=(10,6))\n",
    "\n",
    "sns.boxplot(data=secondary_use_build2, x='secondary_use', y='area_percentage')"
   ]
  },
  {
   "cell_type": "code",
   "execution_count": 18,
   "metadata": {},
   "outputs": [
    {
     "data": {
      "text/plain": [
       "<AxesSubplot:xlabel='secondary_use', ylabel='height_percentage'>"
      ]
     },
     "execution_count": 18,
     "metadata": {},
     "output_type": "execute_result"
    },
    {
     "data": {
      "image/png": "[encoded data removed]",
      "text/plain": [
       "<Figure size 720x432 with 1 Axes>"
      ]
     },
     "metadata": {
      "needs_background": "light"
     },
     "output_type": "display_data"
    }
   ],
   "source": [
    "fig, ax = plt.subplots(1,1, figsize=(10,6))\n",
    "\n",
    "sns.boxplot(data=secondary_use_build2, x='secondary_use', y='height_percentage')"
   ]
  },
  {
   "cell_type": "code",
   "execution_count": 19,
   "metadata": {},
   "outputs": [
    {
     "data": {
      "text/plain": [
       "<AxesSubplot:xlabel='secondary_use', ylabel='count_floors_pre_eq'>"
      ]
     },
     "execution_count": 19,
     "metadata": {},
     "output_type": "execute_result"
    },
    {
     "data": {
      "image/png": "[encoded data removed]",
      "text/plain": [
       "<Figure size 720x432 with 1 Axes>"
      ]
     },
     "metadata": {
      "needs_background": "light"
     },
     "output_type": "display_data"
    }
   ],
   "source": [
    "fig, ax = plt.subplots(1,1, figsize=(10,6))\n",
    "\n",
    "sns.boxplot(data=secondary_use_build2, x='secondary_use', y='count_floors_pre_eq')"
   ]
  },
  {
   "cell_type": "markdown",
   "metadata": {},
   "source": [
    "**Most of the buildings used for agriculture have 2 floors**"
   ]
  },
  {
   "cell_type": "code",
   "execution_count": 20,
   "metadata": {},
   "outputs": [
    {
     "data": {
      "text/plain": [
       "2    11127\n",
       "3     3663\n",
       "1     1860\n",
       "4       48\n",
       "5        3\n",
       "6        2\n",
       "7        1\n",
       "Name: count_floors_pre_eq, dtype: int64"
      ]
     },
     "execution_count": 20,
     "metadata": {},
     "output_type": "execute_result"
    }
   ],
   "source": [
    "secondary_use_build2[secondary_use_build2['secondary_use']=='agriculture']['count_floors_pre_eq'].value_counts()"
   ]
  },
  {
   "cell_type": "code",
   "execution_count": 21,
   "metadata": {},
   "outputs": [
    {
     "data": {
      "text/plain": [
       "<AxesSubplot:xlabel='secondary_use', ylabel='count_families'>"
      ]
     },
     "execution_count": 21,
     "metadata": {},
     "output_type": "execute_result"
    },
    {
     "data": {
      "image/png": "[encoded data removed]",
      "text/plain": [
       "<Figure size 720x432 with 1 Axes>"
      ]
     },
     "metadata": {
      "needs_background": "light"
     },
     "output_type": "display_data"
    }
   ],
   "source": [
    "fig, ax = plt.subplots(1,1, figsize=(10,6))\n",
    "\n",
    "sns.boxplot(data=secondary_use_build2, x='secondary_use', y='count_families')"
   ]
  },
  {
   "cell_type": "markdown",
   "metadata": {},
   "source": [
    "**There is 1 family in most of the buildings used for agriculture**"
   ]
  },
  {
   "cell_type": "markdown",
   "metadata": {},
   "source": [
    "### 5. Given the structure of the building - bamboo, stone, brick, etc - what is the use of the building - agriculture,gov, etc"
   ]
  },
  {
   "cell_type": "code",
   "execution_count": 117,
   "metadata": {},
   "outputs": [],
   "source": [
    "superstructure = train_df1[[x for x in train_df1.columns if 'has_superstructure_' in x]].copy()\n",
    "use = train_df1[[x for x in train_df1.columns if 'has_secondary_use_' in x]].copy()\n",
    "\n",
    "superstructure.columns = superstructure.columns.str.replace('has_superstructure_','')\n",
    "use.columns = use.columns.str.replace('has_secondary_use_','')"
   ]
  },
  {
   "cell_type": "code",
   "execution_count": 118,
   "metadata": {},
   "outputs": [],
   "source": [
    "superstructure_use = pd.DataFrame()\n",
    "superstructure_use['superstructure'] = pd.get_dummies(superstructure).idxmax(1)\n",
    "superstructure_use['use'] = pd.get_dummies(use).idxmax(1)\n",
    "superstructure_use['values'] = np.ones(len(test))\n",
    "\n",
    "superstructure_use_pivoted = pd.pivot_table(data=superstructure_use, values='values', columns='superstructure', index='use', aggfunc=np.sum).fillna(0)"
   ]
  },
  {
   "cell_type": "code",
   "execution_count": 119,
   "metadata": {},
   "outputs": [
    {
     "data": {
      "text/html": [
       "<div>\n",
       "<style scoped>\n",
       "    .dataframe tbody tr th:only-of-type {\n",
       "        vertical-align: middle;\n",
       "    }\n",
       "\n",
       "    .dataframe tbody tr th {\n",
       "        vertical-align: top;\n",
       "    }\n",
       "\n",
       "    .dataframe thead th {\n",
       "        text-align: right;\n",
       "    }\n",
       "</style>\n",
       "<table border=\"1\" class=\"dataframe\">\n",
       "  <thead>\n",
       "    <tr style=\"text-align: right;\">\n",
       "      <th>superstructure</th>\n",
       "      <th>adobe_mud</th>\n",
       "      <th>bamboo</th>\n",
       "      <th>cement_mortar_brick</th>\n",
       "      <th>cement_mortar_stone</th>\n",
       "      <th>mud_mortar_brick</th>\n",
       "      <th>mud_mortar_stone</th>\n",
       "      <th>other</th>\n",
       "      <th>rc_engineered</th>\n",
       "      <th>rc_non_engineered</th>\n",
       "      <th>stone_flag</th>\n",
       "      <th>timber</th>\n",
       "    </tr>\n",
       "    <tr>\n",
       "      <th>use</th>\n",
       "      <th></th>\n",
       "      <th></th>\n",
       "      <th></th>\n",
       "      <th></th>\n",
       "      <th></th>\n",
       "      <th></th>\n",
       "      <th></th>\n",
       "      <th></th>\n",
       "      <th></th>\n",
       "      <th></th>\n",
       "      <th></th>\n",
       "    </tr>\n",
       "  </thead>\n",
       "  <tbody>\n",
       "    <tr>\n",
       "      <th>agriculture</th>\n",
       "      <td>22067.0</td>\n",
       "      <td>1025.0</td>\n",
       "      <td>12908.0</td>\n",
       "      <td>1899.0</td>\n",
       "      <td>7725.0</td>\n",
       "      <td>185081.0</td>\n",
       "      <td>313.0</td>\n",
       "      <td>1652.0</td>\n",
       "      <td>2710.0</td>\n",
       "      <td>2530.0</td>\n",
       "      <td>9003.0</td>\n",
       "    </tr>\n",
       "    <tr>\n",
       "      <th>gov_office</th>\n",
       "      <td>1.0</td>\n",
       "      <td>0.0</td>\n",
       "      <td>6.0</td>\n",
       "      <td>3.0</td>\n",
       "      <td>0.0</td>\n",
       "      <td>13.0</td>\n",
       "      <td>0.0</td>\n",
       "      <td>8.0</td>\n",
       "      <td>3.0</td>\n",
       "      <td>3.0</td>\n",
       "      <td>1.0</td>\n",
       "    </tr>\n",
       "    <tr>\n",
       "      <th>health_post</th>\n",
       "      <td>1.0</td>\n",
       "      <td>0.0</td>\n",
       "      <td>10.0</td>\n",
       "      <td>1.0</td>\n",
       "      <td>3.0</td>\n",
       "      <td>24.0</td>\n",
       "      <td>0.0</td>\n",
       "      <td>4.0</td>\n",
       "      <td>5.0</td>\n",
       "      <td>0.0</td>\n",
       "      <td>1.0</td>\n",
       "    </tr>\n",
       "    <tr>\n",
       "      <th>hotel</th>\n",
       "      <td>598.0</td>\n",
       "      <td>19.0</td>\n",
       "      <td>1851.0</td>\n",
       "      <td>403.0</td>\n",
       "      <td>499.0</td>\n",
       "      <td>3326.0</td>\n",
       "      <td>24.0</td>\n",
       "      <td>579.0</td>\n",
       "      <td>1108.0</td>\n",
       "      <td>116.0</td>\n",
       "      <td>187.0</td>\n",
       "    </tr>\n",
       "    <tr>\n",
       "      <th>industry</th>\n",
       "      <td>29.0</td>\n",
       "      <td>0.0</td>\n",
       "      <td>59.0</td>\n",
       "      <td>7.0</td>\n",
       "      <td>29.0</td>\n",
       "      <td>113.0</td>\n",
       "      <td>2.0</td>\n",
       "      <td>4.0</td>\n",
       "      <td>17.0</td>\n",
       "      <td>0.0</td>\n",
       "      <td>19.0</td>\n",
       "    </tr>\n",
       "    <tr>\n",
       "      <th>institution</th>\n",
       "      <td>11.0</td>\n",
       "      <td>0.0</td>\n",
       "      <td>72.0</td>\n",
       "      <td>11.0</td>\n",
       "      <td>5.0</td>\n",
       "      <td>61.0</td>\n",
       "      <td>0.0</td>\n",
       "      <td>32.0</td>\n",
       "      <td>42.0</td>\n",
       "      <td>3.0</td>\n",
       "      <td>7.0</td>\n",
       "    </tr>\n",
       "    <tr>\n",
       "      <th>other</th>\n",
       "      <td>39.0</td>\n",
       "      <td>3.0</td>\n",
       "      <td>50.0</td>\n",
       "      <td>15.0</td>\n",
       "      <td>20.0</td>\n",
       "      <td>588.0</td>\n",
       "      <td>2.0</td>\n",
       "      <td>19.0</td>\n",
       "      <td>16.0</td>\n",
       "      <td>5.0</td>\n",
       "      <td>17.0</td>\n",
       "    </tr>\n",
       "    <tr>\n",
       "      <th>rental</th>\n",
       "      <td>155.0</td>\n",
       "      <td>3.0</td>\n",
       "      <td>648.0</td>\n",
       "      <td>126.0</td>\n",
       "      <td>136.0</td>\n",
       "      <td>405.0</td>\n",
       "      <td>0.0</td>\n",
       "      <td>280.0</td>\n",
       "      <td>300.0</td>\n",
       "      <td>12.0</td>\n",
       "      <td>22.0</td>\n",
       "    </tr>\n",
       "    <tr>\n",
       "      <th>school</th>\n",
       "      <td>5.0</td>\n",
       "      <td>0.0</td>\n",
       "      <td>29.0</td>\n",
       "      <td>5.0</td>\n",
       "      <td>2.0</td>\n",
       "      <td>21.0</td>\n",
       "      <td>0.0</td>\n",
       "      <td>11.0</td>\n",
       "      <td>17.0</td>\n",
       "      <td>2.0</td>\n",
       "      <td>2.0</td>\n",
       "    </tr>\n",
       "    <tr>\n",
       "      <th>use_police</th>\n",
       "      <td>1.0</td>\n",
       "      <td>0.0</td>\n",
       "      <td>4.0</td>\n",
       "      <td>2.0</td>\n",
       "      <td>0.0</td>\n",
       "      <td>13.0</td>\n",
       "      <td>0.0</td>\n",
       "      <td>1.0</td>\n",
       "      <td>1.0</td>\n",
       "      <td>1.0</td>\n",
       "      <td>0.0</td>\n",
       "    </tr>\n",
       "  </tbody>\n",
       "</table>\n",
       "</div>"
      ],
      "text/plain": [
       "superstructure  adobe_mud  bamboo  cement_mortar_brick  cement_mortar_stone  \\\n",
       "use                                                                           \n",
       "agriculture       22067.0  1025.0              12908.0               1899.0   \n",
       "gov_office            1.0     0.0                  6.0                  3.0   \n",
       "health_post           1.0     0.0                 10.0                  1.0   \n",
       "hotel               598.0    19.0               1851.0                403.0   \n",
       "industry             29.0     0.0                 59.0                  7.0   \n",
       "institution          11.0     0.0                 72.0                 11.0   \n",
       "other                39.0     3.0                 50.0                 15.0   \n",
       "rental              155.0     3.0                648.0                126.0   \n",
       "school                5.0     0.0                 29.0                  5.0   \n",
       "use_police            1.0     0.0                  4.0                  2.0   \n",
       "\n",
       "superstructure  mud_mortar_brick  mud_mortar_stone  other  rc_engineered  \\\n",
       "use                                                                        \n",
       "agriculture               7725.0          185081.0  313.0         1652.0   \n",
       "gov_office                   0.0              13.0    0.0            8.0   \n",
       "health_post                  3.0              24.0    0.0            4.0   \n",
       "hotel                      499.0            3326.0   24.0          579.0   \n",
       "industry                    29.0             113.0    2.0            4.0   \n",
       "institution                  5.0              61.0    0.0           32.0   \n",
       "other                       20.0             588.0    2.0           19.0   \n",
       "rental                     136.0             405.0    0.0          280.0   \n",
       "school                       2.0              21.0    0.0           11.0   \n",
       "use_police                   0.0              13.0    0.0            1.0   \n",
       "\n",
       "superstructure  rc_non_engineered  stone_flag  timber  \n",
       "use                                                    \n",
       "agriculture                2710.0      2530.0  9003.0  \n",
       "gov_office                    3.0         3.0     1.0  \n",
       "health_post                   5.0         0.0     1.0  \n",
       "hotel                      1108.0       116.0   187.0  \n",
       "industry                     17.0         0.0    19.0  \n",
       "institution                  42.0         3.0     7.0  \n",
       "other                        16.0         5.0    17.0  \n",
       "rental                      300.0        12.0    22.0  \n",
       "school                       17.0         2.0     2.0  \n",
       "use_police                    1.0         1.0     0.0  "
      ]
     },
     "execution_count": 119,
     "metadata": {},
     "output_type": "execute_result"
    }
   ],
   "source": [
    "superstructure_use_pivoted"
   ]
  },
  {
   "cell_type": "code",
   "execution_count": 141,
   "metadata": {},
   "outputs": [
    {
     "data": {
      "text/plain": [
       "Text(0.5, 1.0, 'Proportions of superstructures by Secondary Use')"
      ]
     },
     "execution_count": 141,
     "metadata": {},
     "output_type": "execute_result"
    },
    {
     "data": {
      "image/png": "[encoded data removed]",
      "text/plain": [
       "<Figure size 864x432 with 1 Axes>"
      ]
     },
     "metadata": {
      "needs_background": "light"
     },
     "output_type": "display_data"
    }
   ],
   "source": [
    "stacked_data = superstructure_use_pivoted.apply(lambda x: x*100/sum(x), axis=1)\n",
    "\n",
    "fig, ax = plt.subplots(1,1, figsize=(12,6))\n",
    "\n",
    "stacked_data.plot(kind=\"bar\", stacked=True,ax=ax)\n",
    "ax.legend(bbox_to_anchor = (1.05, 0.6))\n",
    "ax.set_xticks(np.arange(0,10))\n",
    "ax.set_xticklabels(superstructure_use_pivoted.index.tolist(), size=14)\n",
    "ax.set_xlabel('Secondary Use', size=16)\n",
    "ax.set_xlabel('Percentages', size=16)\n",
    "ax.set_title('Proportions of superstructures by Secondary Use', size=20)"
   ]
  },
  {
   "cell_type": "markdown",
   "metadata": {},
   "source": [
    "**Most buildings are built from Mud Mortar - Brick $in$ $brown$**"
   ]
  }
 ],
 "metadata": {
  "kernelspec": {
   "display_name": "Python [conda env:training]",
   "language": "python",
   "name": "conda-env-training-py"
  },
  "language_info": {
   "codemirror_mode": {
    "name": "ipython",
    "version": 3
   },
   "file_extension": ".py",
   "mimetype": "text/x-python",
   "name": "python",
   "nbconvert_exporter": "python",
   "pygments_lexer": "ipython3",
   "version": "3.8.6"
  }
 },
 "nbformat": 4,
 "nbformat_minor": 4
}
